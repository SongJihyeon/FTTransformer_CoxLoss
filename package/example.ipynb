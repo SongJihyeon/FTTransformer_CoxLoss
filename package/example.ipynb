{
 "cells": [
  {
   "cell_type": "markdown",
   "metadata": {},
   "source": [
    "<a target=\"_blank\" href=\"https://colab.research.google.com/github/yandex-research/rtdl-revisiting-models/blob/main/package/example.ipynb\">\n",
    "  <img src=\"https://colab.research.google.com/assets/colab-badge.svg\" alt=\"Open In Colab\"/>\n",
    "</a>\n",
    "\n",
    "---\n",
    "\n",
    "**See also** [RTDL](https://github.com/yandex-research/rtdl)\n",
    "-- **other projects on tabular deep learning**.\n",
    "\n",
    "---\n",
    "\n",
    "- This notebook provides a usage example of the\n",
    "  [rtdl_revisiting_models](https://github.com/yandex-research/rtdl-revisiting-models)\n",
    "  package.\n",
    "- Hyperparameters are not tuned and may be suboptimal."
   ]
  },
  {
   "cell_type": "code",
   "execution_count": 1,
   "metadata": {},
   "outputs": [
    {
     "name": "stdout",
     "output_type": "stream",
     "text": [
      "Requirement already satisfied: delu==0.0.23 in /home/pon07009/miniconda3/envs/py39.torch/lib/python3.9/site-packages (0.0.23)\n",
      "Requirement already satisfied: numpy<2,>=1.18 in /home/pon07009/miniconda3/envs/py39.torch/lib/python3.9/site-packages (from delu==0.0.23) (1.23.3)\n",
      "Requirement already satisfied: torch<3,>=1.8 in /home/pon07009/miniconda3/envs/py39.torch/lib/python3.9/site-packages (from delu==0.0.23) (1.12.1+cu116)\n",
      "Requirement already satisfied: typing-extensions in /home/pon07009/miniconda3/envs/py39.torch/lib/python3.9/site-packages (from torch<3,>=1.8->delu==0.0.23) (4.3.0)\n",
      "Note: you may need to restart the kernel to use updated packages.\n",
      "Requirement already satisfied: rtdl_revisiting_models in /home/pon07009/miniconda3/envs/py39.torch/lib/python3.9/site-packages (0.0.2)\n",
      "Requirement already satisfied: torch<3,>=1.8 in /home/pon07009/miniconda3/envs/py39.torch/lib/python3.9/site-packages (from rtdl_revisiting_models) (1.12.1+cu116)\n",
      "Requirement already satisfied: typing-extensions in /home/pon07009/miniconda3/envs/py39.torch/lib/python3.9/site-packages (from torch<3,>=1.8->rtdl_revisiting_models) (4.3.0)\n",
      "Note: you may need to restart the kernel to use updated packages.\n"
     ]
    }
   ],
   "source": [
    "%pip install delu==0.0.23\n",
    "%pip install rtdl_revisiting_models"
   ]
  },
  {
   "cell_type": "code",
   "execution_count": 2,
   "metadata": {},
   "outputs": [],
   "source": [
    "# ruff: noqa: E402\n",
    "import math\n",
    "import warnings\n",
    "from typing import Dict, Literal\n",
    "\n",
    "warnings.simplefilter(\"ignore\")\n",
    "import delu  # Deep Learning Utilities: https://github.com/Yura52/delu\n",
    "import numpy as np\n",
    "import scipy.special\n",
    "import sklearn.datasets\n",
    "import sklearn.metrics\n",
    "import sklearn.model_selection\n",
    "import sklearn.preprocessing\n",
    "import torch\n",
    "import torch.nn.functional as F\n",
    "import torch.optim\n",
    "from torch import Tensor\n",
    "from tqdm.std import tqdm\n",
    "\n",
    "warnings.resetwarnings()\n",
    "\n",
    "from rtdl_revisiting_models import MLP, ResNet, FTTransformer"
   ]
  },
  {
   "cell_type": "code",
   "execution_count": 3,
   "metadata": {},
   "outputs": [
    {
     "data": {
      "text/plain": [
       "0"
      ]
     },
     "execution_count": 3,
     "metadata": {},
     "output_type": "execute_result"
    }
   ],
   "source": [
    "device = torch.device(\"cuda\" if torch.cuda.is_available() else \"cpu\")\n",
    "# Set random seeds in all libraries.\n",
    "delu.random.seed(0)"
   ]
  },
  {
   "cell_type": "markdown",
   "metadata": {},
   "source": [
    "## Dataset"
   ]
  },
  {
   "cell_type": "code",
   "execution_count": 4,
   "metadata": {},
   "outputs": [],
   "source": [
    "# >>> Dataset.\n",
    "TaskType = Literal[\"regression\", \"binclass\", \"multiclass\"]\n",
    "\n",
    "task_type: TaskType = \"regression\"\n",
    "n_classes = None\n",
    "dataset = sklearn.datasets.fetch_california_housing()\n",
    "X_cont: np.ndarray = dataset[\"data\"]\n",
    "Y: np.ndarray = dataset[\"target\"]\n",
    "\n",
    "# NOTE: uncomment to solve a classification task.\n",
    "# n_classes = 2\n",
    "# assert n_classes >= 2\n",
    "# task_type: TaskType = 'binclass' if n_classes == 2 else 'multiclass'\n",
    "# X_cont, Y = sklearn.datasets.make_classification(\n",
    "#     n_samples=20000,\n",
    "#     n_features=8,\n",
    "#     n_classes=n_classes,\n",
    "#     n_informative=3,\n",
    "#     n_redundant=2,\n",
    "# )\n",
    "\n",
    "# >>> Continuous features.\n",
    "X_cont: np.ndarray = X_cont.astype(np.float32)\n",
    "n_cont_features = X_cont.shape[1]\n",
    "\n",
    "# >>> Categorical features.\n",
    "# NOTE: the above datasets do not have categorical features, but,\n",
    "# for the demonstration purposes, it is possible to generate them.\n",
    "cat_cardinalities = [\n",
    "    # NOTE: uncomment the two lines below to add two categorical features.\n",
    "    # 4,  # Allowed values: [0, 1, 2, 3].\n",
    "    # 7,  # Allowed values: [0, 1, 2, 3, 4, 5, 6].\n",
    "]\n",
    "X_cat = (\n",
    "    np.column_stack(\n",
    "        [np.random.randint(0, c, (len(X_cont),)) for c in cat_cardinalities]\n",
    "    )\n",
    "    if cat_cardinalities\n",
    "    else None\n",
    ")\n",
    "\n",
    "# >>> Labels.\n",
    "# Regression labels must be represented by float32.\n",
    "if task_type == \"regression\":\n",
    "    Y = Y.astype(np.float32)\n",
    "else:\n",
    "    assert n_classes is not None\n",
    "    Y = Y.astype(np.int64)\n",
    "    assert set(Y.tolist()) == set(\n",
    "        range(n_classes)\n",
    "    ), \"Classification labels must form the range [0, 1, ..., n_classes - 1]\"\n",
    "\n",
    "# >>> Split the dataset.\n",
    "all_idx = np.arange(len(Y))\n",
    "trainval_idx, test_idx = sklearn.model_selection.train_test_split(\n",
    "    all_idx, train_size=0.8\n",
    ")\n",
    "train_idx, val_idx = sklearn.model_selection.train_test_split(\n",
    "    trainval_idx, train_size=0.8\n",
    ")\n",
    "data_numpy = {\n",
    "    \"train\": {\"x_cont\": X_cont[train_idx], \"y\": Y[train_idx]},\n",
    "    \"val\": {\"x_cont\": X_cont[val_idx], \"y\": Y[val_idx]},\n",
    "    \"test\": {\"x_cont\": X_cont[test_idx], \"y\": Y[test_idx]},\n",
    "}\n",
    "if X_cat is not None:\n",
    "    data_numpy[\"train\"][\"x_cat\"] = X_cat[train_idx]\n",
    "    data_numpy[\"val\"][\"x_cat\"] = X_cat[val_idx]\n",
    "    data_numpy[\"test\"][\"x_cat\"] = X_cat[test_idx]"
   ]
  },
  {
   "cell_type": "code",
   "execution_count": 6,
   "metadata": {},
   "outputs": [
    {
     "data": {
      "text/plain": [
       "{'train': {'x_cont': array([[ 1.7792566 ,  0.5621234 ,  1.1550618 , ..., -0.6669884 ,\n",
       "           0.470754  , -1.0061344 ],\n",
       "         [ 0.55808   ,  0.5621234 , -0.5218781 , ...,  0.9387544 ,\n",
       "          -0.6907074 ,  0.59090346],\n",
       "         [-0.44789276,  1.3993868 , -0.69279766, ..., -0.99130523,\n",
       "           0.7537073 , -1.6643003 ],\n",
       "         ...,\n",
       "         [ 1.4408891 , -0.61646837,  1.4222528 , ...,  1.3905935 ,\n",
       "          -1.1164329 ,  0.7613144 ],\n",
       "         [ 0.38069886,  0.4390957 , -0.26269946, ...,  1.4723341 ,\n",
       "          -0.6907074 ,  0.64432883],\n",
       "         [-0.15040943,  0.2539367 ,  0.87688   , ..., -0.60717887,\n",
       "           1.9112622 , -0.591341  ]], dtype=float32),\n",
       "  'y': array([ 2.5195925 , -0.21453126,  1.0480323 , ...,  0.58601344,\n",
       "         -0.48656097, -1.0850265 ], dtype=float32)},\n",
       " 'val': {'x_cont': array([[ 1.3481432 , -1.571041  ,  1.1630402 , ..., -0.5179027 ,\n",
       "          -1.5368205 ,  1.267422  ],\n",
       "         [-0.74417   ,  0.18374428, -1.0771673 , ..., -1.4639283 ,\n",
       "          -0.2421602 ,  0.9873678 ],\n",
       "         [ 1.176723  ,  0.34352008,  0.20069598, ..., -0.5754368 ,\n",
       "          -0.8450266 ,  0.11157326],\n",
       "         ...,\n",
       "         [-1.054429  , -1.3314124 , -0.7215364 , ..., -0.08480625,\n",
       "           1.0748184 , -0.753713  ],\n",
       "         [ 0.18612069,  1.3993868 ,  0.41211382, ..., -0.8144533 ,\n",
       "           0.71261835, -1.7138277 ],\n",
       "         [-0.56490815, -0.32239613, -2.011281  , ...,  1.5760318 ,\n",
       "          -0.542173  ,  0.39240256]], dtype=float32),\n",
       "  'y': array([ 1.395194  , -0.22834866,  1.6093637 , ..., -0.7430462 ,\n",
       "          1.144754  , -0.38897577], dtype=float32)},\n",
       " 'test': {'x_cont': array([[-1.6371151 ,  0.9155386 , -1.5332228 , ..., -0.42864475,\n",
       "           0.8318973 , -1.1827656 ],\n",
       "         [-1.2821991 , -1.0571727 ,  0.59501064, ..., -0.0962235 ,\n",
       "           2.4312038 , -2.3861036 ],\n",
       "         [-0.14009699, -0.18084143, -0.92127174, ...,  0.12974662,\n",
       "           0.55544627, -0.8729498 ],\n",
       "         ...,\n",
       "         [-0.5029056 , -1.4773101 ,  0.0574583 , ..., -0.5020972 ,\n",
       "           0.47714707, -0.18084143],\n",
       "         [-1.7142146 , -0.32239613, -0.3330359 , ...,  0.2834376 ,\n",
       "           0.18444572, -0.08097952],\n",
       "         [-0.11323775,  0.9155386 , -1.0067043 , ..., -0.8410201 ,\n",
       "          -0.44539207,  0.03586813]], dtype=float32),\n",
       "  'y': array([-0.31816164, -1.1143885 ,  0.13781217, ..., -0.726638  ,\n",
       "         -1.3466933 ,  0.94871986], dtype=float32)}}"
      ]
     },
     "execution_count": 6,
     "metadata": {},
     "output_type": "execute_result"
    }
   ],
   "source": [
    "data_numpy"
   ]
  },
  {
   "cell_type": "markdown",
   "metadata": {},
   "source": [
    "## Preprocessing"
   ]
  },
  {
   "cell_type": "code",
   "execution_count": 5,
   "metadata": {},
   "outputs": [],
   "source": [
    "# >>> Feature preprocessing.\n",
    "# NOTE\n",
    "# The choice between preprocessing strategies depends on a task and a model.\n",
    "\n",
    "# (A) Simple preprocessing strategy.\n",
    "# preprocessing = sklearn.preprocessing.StandardScaler().fit(\n",
    "#     data_numpy['train']['x_cont']\n",
    "# )\n",
    "\n",
    "# (B) Fancy preprocessing strategy.\n",
    "# The noise is added to improve the output of QuantileTransformer in some cases.\n",
    "X_cont_train_numpy = data_numpy[\"train\"][\"x_cont\"]\n",
    "noise = (\n",
    "    np.random.default_rng(0)\n",
    "    .normal(0.0, 1e-5, X_cont_train_numpy.shape)\n",
    "    .astype(X_cont_train_numpy.dtype)\n",
    ")\n",
    "preprocessing = sklearn.preprocessing.QuantileTransformer(\n",
    "    n_quantiles=max(min(len(train_idx) // 30, 1000), 10),\n",
    "    output_distribution=\"normal\",\n",
    "    subsample=10**9,\n",
    ").fit(X_cont_train_numpy + noise)\n",
    "del X_cont_train_numpy\n",
    "\n",
    "for part in data_numpy:\n",
    "    data_numpy[part][\"x_cont\"] = preprocessing.transform(data_numpy[part][\"x_cont\"])\n",
    "\n",
    "# >>> Label preprocessing.\n",
    "if task_type == \"regression\":\n",
    "    Y_mean = data_numpy[\"train\"][\"y\"].mean().item()\n",
    "    Y_std = data_numpy[\"train\"][\"y\"].std().item()\n",
    "    for part in data_numpy:\n",
    "        data_numpy[part][\"y\"] = (data_numpy[part][\"y\"] - Y_mean) / Y_std\n",
    "\n",
    "# >>> Convert data to tensors.\n",
    "data = {\n",
    "    part: {k: torch.as_tensor(v, device=device) for k, v in data_numpy[part].items()}\n",
    "    for part in data_numpy\n",
    "}\n",
    "\n",
    "if task_type != \"multiclass\":\n",
    "    # Required by F.binary_cross_entropy_with_logits\n",
    "    for part in data:\n",
    "        data[part][\"y\"] = data[part][\"y\"].float()"
   ]
  },
  {
   "cell_type": "markdown",
   "metadata": {},
   "source": [
    "## Model"
   ]
  },
  {
   "cell_type": "code",
   "execution_count": 6,
   "metadata": {},
   "outputs": [],
   "source": [
    "# The output size.\n",
    "d_out = n_classes if task_type == \"multiclass\" else 1\n",
    "\n",
    "# # NOTE: uncomment to train MLP\n",
    "# model = MLP(\n",
    "#     d_in=n_cont_features + sum(cat_cardinalities),\n",
    "#     d_out=d_out,\n",
    "#     n_blocks=2,\n",
    "#     d_block=384,\n",
    "#     dropout=0.1,\n",
    "# ).to(device)\n",
    "# optimizer = torch.optim.AdamW(model.parameters(), lr=3e-4, weight_decay=1e-5)\n",
    "\n",
    "# # NOTE: uncomment to train ResNet\n",
    "# model = ResNet(\n",
    "#     d_in=n_cont_features + sum(cat_cardinalities),\n",
    "#     d_out=d_out,\n",
    "#     n_blocks=2,\n",
    "#     d_block=192,\n",
    "#     d_hidden=None,\n",
    "#     d_hidden_multiplier=2.0,\n",
    "#     dropout1=0.3,\n",
    "#     dropout2=0.0,\n",
    "# ).to(device)\n",
    "# optimizer = torch.optim.AdamW(model.parameters(), lr=3e-4, weight_decay=1e-5)\n",
    "\n",
    "model = FTTransformer(\n",
    "    n_cont_features=n_cont_features,\n",
    "    cat_cardinalities=cat_cardinalities,\n",
    "    d_out=d_out,\n",
    "    **FTTransformer.get_default_kwargs(),\n",
    ").to(device)\n",
    "optimizer = model.make_default_optimizer()"
   ]
  },
  {
   "cell_type": "markdown",
   "metadata": {},
   "source": [
    "## Training"
   ]
  },
  {
   "cell_type": "code",
   "execution_count": 8,
   "metadata": {},
   "outputs": [
    {
     "name": "stdout",
     "output_type": "stream",
     "text": [
      "Test score before training: -1.1242\n"
     ]
    }
   ],
   "source": [
    "def apply_model(batch: Dict[str, Tensor]) -> Tensor:\n",
    "    if isinstance(model, (MLP, ResNet)):\n",
    "        x_cat_ohe = (\n",
    "            [\n",
    "                F.one_hot(column, cardinality)\n",
    "                for column, cardinality in zip(batch[\"x_cat\"].T, cat_cardinalities)\n",
    "            ]\n",
    "            if \"x_cat\" in batch\n",
    "            else []\n",
    "        )\n",
    "        return model(torch.column_stack([batch[\"x_cont\"]] + x_cat_ohe)).squeeze(-1)\n",
    "\n",
    "    elif isinstance(model, FTTransformer):\n",
    "        return model(batch[\"x_cont\"], batch.get(\"x_cat\")).squeeze(-1)\n",
    "\n",
    "    else:\n",
    "        raise RuntimeError(f\"Unknown model type: {type(model)}\")\n",
    "\n",
    "\n",
    "loss_fn = (\n",
    "    F.binary_cross_entropy_with_logits\n",
    "    if task_type == \"binclass\"\n",
    "    else F.cross_entropy\n",
    "    if task_type == \"multiclass\"\n",
    "    else F.mse_loss\n",
    ")\n",
    "\n",
    "\n",
    "@torch.no_grad()\n",
    "def evaluate(part: str) -> float:\n",
    "    model.eval()\n",
    "\n",
    "    eval_batch_size = 8096\n",
    "    y_pred = (\n",
    "        torch.cat(\n",
    "            [\n",
    "                apply_model(batch)\n",
    "                for batch in delu.iter_batches(data[part], eval_batch_size)\n",
    "            ]\n",
    "        )\n",
    "        .cpu()\n",
    "        .numpy()\n",
    "    )\n",
    "    y_true = data[part][\"y\"].cpu().numpy()\n",
    "\n",
    "    if task_type == \"binclass\":\n",
    "        y_pred = np.round(scipy.special.expit(y_pred))\n",
    "        score = sklearn.metrics.accuracy_score(y_true, y_pred)\n",
    "    elif task_type == \"multiclass\":\n",
    "        y_pred = y_pred.argmax(1)\n",
    "        score = sklearn.metrics.accuracy_score(y_true, y_pred)\n",
    "    else:\n",
    "        assert task_type == \"regression\"\n",
    "        score = -(sklearn.metrics.mean_squared_error(y_true, y_pred) ** 0.5 * Y_std)\n",
    "    return score  # The higher -- the better.\n",
    "\n",
    "\n",
    "print(f'Test score before training: {evaluate(\"test\"):.4f}')"
   ]
  },
  {
   "cell_type": "code",
   "execution_count": 9,
   "metadata": {},
   "outputs": [
    {
     "name": "stdout",
     "output_type": "stream",
     "text": [
      "Device: CUDA\n",
      "----------------------------------------------------------------------------------------\n",
      "\n"
     ]
    },
    {
     "name": "stderr",
     "output_type": "stream",
     "text": [
      "Epoch 0: 100%|██████████| 52/52 [00:00<00:00, 141.41it/s]\n"
     ]
    },
    {
     "name": "stdout",
     "output_type": "stream",
     "text": [
      "(val) -0.6054 (test) -0.6060 [time] 0:00:00.392096\n",
      "🌸 New best epoch! 🌸\n",
      "\n"
     ]
    },
    {
     "name": "stderr",
     "output_type": "stream",
     "text": [
      "Epoch 1: 100%|██████████| 52/52 [00:00<00:00, 142.24it/s]\n"
     ]
    },
    {
     "name": "stdout",
     "output_type": "stream",
     "text": [
      "(val) -0.5811 (test) -0.5813 [time] 0:00:00.781521\n",
      "🌸 New best epoch! 🌸\n",
      "\n"
     ]
    },
    {
     "name": "stderr",
     "output_type": "stream",
     "text": [
      "Epoch 2: 100%|██████████| 52/52 [00:00<00:00, 141.99it/s]\n"
     ]
    },
    {
     "name": "stdout",
     "output_type": "stream",
     "text": [
      "(val) -0.5645 (test) -0.5619 [time] 0:00:01.171774\n",
      "🌸 New best epoch! 🌸\n",
      "\n"
     ]
    },
    {
     "name": "stderr",
     "output_type": "stream",
     "text": [
      "Epoch 3: 100%|██████████| 52/52 [00:00<00:00, 142.67it/s]\n"
     ]
    },
    {
     "name": "stdout",
     "output_type": "stream",
     "text": [
      "(val) -0.5521 (test) -0.5471 [time] 0:00:01.560298\n",
      "🌸 New best epoch! 🌸\n",
      "\n"
     ]
    },
    {
     "name": "stderr",
     "output_type": "stream",
     "text": [
      "Epoch 4: 100%|██████████| 52/52 [00:00<00:00, 142.85it/s]\n"
     ]
    },
    {
     "name": "stdout",
     "output_type": "stream",
     "text": [
      "(val) -0.5586 (test) -0.5554 [time] 0:00:01.948285\n",
      "\n"
     ]
    },
    {
     "name": "stderr",
     "output_type": "stream",
     "text": [
      "Epoch 5: 100%|██████████| 52/52 [00:00<00:00, 142.28it/s]\n"
     ]
    },
    {
     "name": "stdout",
     "output_type": "stream",
     "text": [
      "(val) -0.5579 (test) -0.5481 [time] 0:00:02.337521\n",
      "\n"
     ]
    },
    {
     "name": "stderr",
     "output_type": "stream",
     "text": [
      "Epoch 6: 100%|██████████| 52/52 [00:00<00:00, 142.77it/s]\n"
     ]
    },
    {
     "name": "stdout",
     "output_type": "stream",
     "text": [
      "(val) -0.5256 (test) -0.5217 [time] 0:00:02.725734\n",
      "🌸 New best epoch! 🌸\n",
      "\n"
     ]
    },
    {
     "name": "stderr",
     "output_type": "stream",
     "text": [
      "Epoch 7: 100%|██████████| 52/52 [00:00<00:00, 143.34it/s]\n"
     ]
    },
    {
     "name": "stdout",
     "output_type": "stream",
     "text": [
      "(val) -0.5284 (test) -0.5184 [time] 0:00:03.112472\n",
      "\n"
     ]
    },
    {
     "name": "stderr",
     "output_type": "stream",
     "text": [
      "Epoch 8: 100%|██████████| 52/52 [00:00<00:00, 143.29it/s]\n"
     ]
    },
    {
     "name": "stdout",
     "output_type": "stream",
     "text": [
      "(val) -0.5207 (test) -0.5202 [time] 0:00:03.499205\n",
      "🌸 New best epoch! 🌸\n",
      "\n"
     ]
    },
    {
     "name": "stderr",
     "output_type": "stream",
     "text": [
      "Epoch 9: 100%|██████████| 52/52 [00:00<00:00, 143.01it/s]\n"
     ]
    },
    {
     "name": "stdout",
     "output_type": "stream",
     "text": [
      "(val) -0.5205 (test) -0.5162 [time] 0:00:03.886972\n",
      "🌸 New best epoch! 🌸\n",
      "\n"
     ]
    },
    {
     "name": "stderr",
     "output_type": "stream",
     "text": [
      "Epoch 10: 100%|██████████| 52/52 [00:00<00:00, 142.58it/s]\n"
     ]
    },
    {
     "name": "stdout",
     "output_type": "stream",
     "text": [
      "(val) -0.5163 (test) -0.5096 [time] 0:00:04.275435\n",
      "🌸 New best epoch! 🌸\n",
      "\n"
     ]
    },
    {
     "name": "stderr",
     "output_type": "stream",
     "text": [
      "Epoch 11: 100%|██████████| 52/52 [00:00<00:00, 142.92it/s]\n"
     ]
    },
    {
     "name": "stdout",
     "output_type": "stream",
     "text": [
      "(val) -0.5210 (test) -0.5186 [time] 0:00:04.663017\n",
      "\n"
     ]
    },
    {
     "name": "stderr",
     "output_type": "stream",
     "text": [
      "Epoch 12: 100%|██████████| 52/52 [00:00<00:00, 142.74it/s]\n"
     ]
    },
    {
     "name": "stdout",
     "output_type": "stream",
     "text": [
      "(val) -0.5281 (test) -0.5192 [time] 0:00:05.051185\n",
      "\n"
     ]
    },
    {
     "name": "stderr",
     "output_type": "stream",
     "text": [
      "Epoch 13: 100%|██████████| 52/52 [00:00<00:00, 142.94it/s]\n"
     ]
    },
    {
     "name": "stdout",
     "output_type": "stream",
     "text": [
      "(val) -0.5279 (test) -0.5250 [time] 0:00:05.438946\n",
      "\n"
     ]
    },
    {
     "name": "stderr",
     "output_type": "stream",
     "text": [
      "Epoch 14: 100%|██████████| 52/52 [00:00<00:00, 142.78it/s]\n"
     ]
    },
    {
     "name": "stdout",
     "output_type": "stream",
     "text": [
      "(val) -0.5033 (test) -0.5041 [time] 0:00:05.826898\n",
      "🌸 New best epoch! 🌸\n",
      "\n"
     ]
    },
    {
     "name": "stderr",
     "output_type": "stream",
     "text": [
      "Epoch 15: 100%|██████████| 52/52 [00:00<00:00, 142.89it/s]\n"
     ]
    },
    {
     "name": "stdout",
     "output_type": "stream",
     "text": [
      "(val) -0.5029 (test) -0.5053 [time] 0:00:06.214594\n",
      "🌸 New best epoch! 🌸\n",
      "\n"
     ]
    },
    {
     "name": "stderr",
     "output_type": "stream",
     "text": [
      "Epoch 16: 100%|██████████| 52/52 [00:00<00:00, 142.53it/s]\n"
     ]
    },
    {
     "name": "stdout",
     "output_type": "stream",
     "text": [
      "(val) -0.5033 (test) -0.5058 [time] 0:00:06.603162\n",
      "\n"
     ]
    },
    {
     "name": "stderr",
     "output_type": "stream",
     "text": [
      "Epoch 17: 100%|██████████| 52/52 [00:00<00:00, 142.48it/s]\n"
     ]
    },
    {
     "name": "stdout",
     "output_type": "stream",
     "text": [
      "(val) -0.5018 (test) -0.5043 [time] 0:00:06.991846\n",
      "🌸 New best epoch! 🌸\n",
      "\n"
     ]
    },
    {
     "name": "stderr",
     "output_type": "stream",
     "text": [
      "Epoch 18: 100%|██████████| 52/52 [00:00<00:00, 142.91it/s]\n"
     ]
    },
    {
     "name": "stdout",
     "output_type": "stream",
     "text": [
      "(val) -0.4999 (test) -0.5011 [time] 0:00:07.379796\n",
      "🌸 New best epoch! 🌸\n",
      "\n"
     ]
    },
    {
     "name": "stderr",
     "output_type": "stream",
     "text": [
      "Epoch 19: 100%|██████████| 52/52 [00:00<00:00, 143.02it/s]\n"
     ]
    },
    {
     "name": "stdout",
     "output_type": "stream",
     "text": [
      "(val) -0.4963 (test) -0.5003 [time] 0:00:07.767410\n",
      "🌸 New best epoch! 🌸\n",
      "\n"
     ]
    },
    {
     "name": "stderr",
     "output_type": "stream",
     "text": [
      "Epoch 20: 100%|██████████| 52/52 [00:00<00:00, 142.98it/s]\n"
     ]
    },
    {
     "name": "stdout",
     "output_type": "stream",
     "text": [
      "(val) -0.4949 (test) -0.4951 [time] 0:00:08.155145\n",
      "🌸 New best epoch! 🌸\n",
      "\n"
     ]
    },
    {
     "name": "stderr",
     "output_type": "stream",
     "text": [
      "Epoch 21: 100%|██████████| 52/52 [00:00<00:00, 142.64it/s]\n"
     ]
    },
    {
     "name": "stdout",
     "output_type": "stream",
     "text": [
      "(val) -0.5071 (test) -0.5103 [time] 0:00:08.543719\n",
      "\n"
     ]
    },
    {
     "name": "stderr",
     "output_type": "stream",
     "text": [
      "Epoch 22: 100%|██████████| 52/52 [00:00<00:00, 142.69it/s]\n"
     ]
    },
    {
     "name": "stdout",
     "output_type": "stream",
     "text": [
      "(val) -0.5000 (test) -0.4968 [time] 0:00:08.932403\n",
      "\n"
     ]
    },
    {
     "name": "stderr",
     "output_type": "stream",
     "text": [
      "Epoch 23: 100%|██████████| 52/52 [00:00<00:00, 142.73it/s]\n"
     ]
    },
    {
     "name": "stdout",
     "output_type": "stream",
     "text": [
      "(val) -0.4999 (test) -0.4960 [time] 0:00:09.320922\n",
      "\n"
     ]
    },
    {
     "name": "stderr",
     "output_type": "stream",
     "text": [
      "Epoch 24: 100%|██████████| 52/52 [00:00<00:00, 142.90it/s]\n"
     ]
    },
    {
     "name": "stdout",
     "output_type": "stream",
     "text": [
      "(val) -0.4972 (test) -0.4918 [time] 0:00:09.708883\n",
      "\n"
     ]
    },
    {
     "name": "stderr",
     "output_type": "stream",
     "text": [
      "Epoch 25: 100%|██████████| 52/52 [00:00<00:00, 142.92it/s]\n"
     ]
    },
    {
     "name": "stdout",
     "output_type": "stream",
     "text": [
      "(val) -0.5017 (test) -0.4949 [time] 0:00:10.096916\n",
      "\n"
     ]
    },
    {
     "name": "stderr",
     "output_type": "stream",
     "text": [
      "Epoch 26: 100%|██████████| 52/52 [00:00<00:00, 142.78it/s]\n"
     ]
    },
    {
     "name": "stdout",
     "output_type": "stream",
     "text": [
      "(val) -0.4861 (test) -0.4902 [time] 0:00:10.484974\n",
      "🌸 New best epoch! 🌸\n",
      "\n"
     ]
    },
    {
     "name": "stderr",
     "output_type": "stream",
     "text": [
      "Epoch 27: 100%|██████████| 52/52 [00:00<00:00, 142.53it/s]\n"
     ]
    },
    {
     "name": "stdout",
     "output_type": "stream",
     "text": [
      "(val) -0.4967 (test) -0.4994 [time] 0:00:10.873696\n",
      "\n"
     ]
    },
    {
     "name": "stderr",
     "output_type": "stream",
     "text": [
      "Epoch 28: 100%|██████████| 52/52 [00:00<00:00, 142.66it/s]\n"
     ]
    },
    {
     "name": "stdout",
     "output_type": "stream",
     "text": [
      "(val) -0.4894 (test) -0.4882 [time] 0:00:11.262060\n",
      "\n"
     ]
    },
    {
     "name": "stderr",
     "output_type": "stream",
     "text": [
      "Epoch 29: 100%|██████████| 52/52 [00:00<00:00, 142.54it/s]\n"
     ]
    },
    {
     "name": "stdout",
     "output_type": "stream",
     "text": [
      "(val) -0.4931 (test) -0.4957 [time] 0:00:11.650885\n",
      "\n"
     ]
    },
    {
     "name": "stderr",
     "output_type": "stream",
     "text": [
      "Epoch 30: 100%|██████████| 52/52 [00:00<00:00, 142.59it/s]\n"
     ]
    },
    {
     "name": "stdout",
     "output_type": "stream",
     "text": [
      "(val) -0.4904 (test) -0.4864 [time] 0:00:12.039530\n",
      "\n"
     ]
    },
    {
     "name": "stderr",
     "output_type": "stream",
     "text": [
      "Epoch 31: 100%|██████████| 52/52 [00:00<00:00, 142.49it/s]\n"
     ]
    },
    {
     "name": "stdout",
     "output_type": "stream",
     "text": [
      "(val) -0.4903 (test) -0.4881 [time] 0:00:12.428463\n",
      "\n"
     ]
    },
    {
     "name": "stderr",
     "output_type": "stream",
     "text": [
      "Epoch 32: 100%|██████████| 52/52 [00:00<00:00, 142.68it/s]\n"
     ]
    },
    {
     "name": "stdout",
     "output_type": "stream",
     "text": [
      "(val) -0.4900 (test) -0.4873 [time] 0:00:12.817033\n",
      "\n"
     ]
    },
    {
     "name": "stderr",
     "output_type": "stream",
     "text": [
      "Epoch 33: 100%|██████████| 52/52 [00:00<00:00, 142.68it/s]\n"
     ]
    },
    {
     "name": "stdout",
     "output_type": "stream",
     "text": [
      "(val) -0.4903 (test) -0.4914 [time] 0:00:13.205344\n",
      "\n"
     ]
    },
    {
     "name": "stderr",
     "output_type": "stream",
     "text": [
      "Epoch 34: 100%|██████████| 52/52 [00:00<00:00, 142.44it/s]\n"
     ]
    },
    {
     "name": "stdout",
     "output_type": "stream",
     "text": [
      "(val) -0.4866 (test) -0.4870 [time] 0:00:13.594308\n",
      "\n"
     ]
    },
    {
     "name": "stderr",
     "output_type": "stream",
     "text": [
      "Epoch 35: 100%|██████████| 52/52 [00:00<00:00, 142.44it/s]\n"
     ]
    },
    {
     "name": "stdout",
     "output_type": "stream",
     "text": [
      "(val) -0.4943 (test) -0.4980 [time] 0:00:13.983209\n",
      "\n"
     ]
    },
    {
     "name": "stderr",
     "output_type": "stream",
     "text": [
      "Epoch 36: 100%|██████████| 52/52 [00:00<00:00, 142.55it/s]\n"
     ]
    },
    {
     "name": "stdout",
     "output_type": "stream",
     "text": [
      "(val) -0.4928 (test) -0.4938 [time] 0:00:14.372026\n",
      "\n"
     ]
    },
    {
     "name": "stderr",
     "output_type": "stream",
     "text": [
      "Epoch 37: 100%|██████████| 52/52 [00:00<00:00, 142.77it/s]\n"
     ]
    },
    {
     "name": "stdout",
     "output_type": "stream",
     "text": [
      "(val) -0.4890 (test) -0.4859 [time] 0:00:14.760250\n",
      "\n"
     ]
    },
    {
     "name": "stderr",
     "output_type": "stream",
     "text": [
      "Epoch 38: 100%|██████████| 52/52 [00:00<00:00, 142.82it/s]\n"
     ]
    },
    {
     "name": "stdout",
     "output_type": "stream",
     "text": [
      "(val) -0.4988 (test) -0.4951 [time] 0:00:15.148408\n",
      "\n"
     ]
    },
    {
     "name": "stderr",
     "output_type": "stream",
     "text": [
      "Epoch 39: 100%|██████████| 52/52 [00:00<00:00, 142.36it/s]\n"
     ]
    },
    {
     "name": "stdout",
     "output_type": "stream",
     "text": [
      "(val) -0.4779 (test) -0.4846 [time] 0:00:15.537572\n",
      "🌸 New best epoch! 🌸\n",
      "\n"
     ]
    },
    {
     "name": "stderr",
     "output_type": "stream",
     "text": [
      "Epoch 40: 100%|██████████| 52/52 [00:00<00:00, 142.33it/s]\n"
     ]
    },
    {
     "name": "stdout",
     "output_type": "stream",
     "text": [
      "(val) -0.4934 (test) -0.4953 [time] 0:00:15.927020\n",
      "\n"
     ]
    },
    {
     "name": "stderr",
     "output_type": "stream",
     "text": [
      "Epoch 41: 100%|██████████| 52/52 [00:00<00:00, 143.07it/s]\n"
     ]
    },
    {
     "name": "stdout",
     "output_type": "stream",
     "text": [
      "(val) -0.4937 (test) -0.4992 [time] 0:00:16.314155\n",
      "\n"
     ]
    },
    {
     "name": "stderr",
     "output_type": "stream",
     "text": [
      "Epoch 42: 100%|██████████| 52/52 [00:00<00:00, 142.79it/s]\n"
     ]
    },
    {
     "name": "stdout",
     "output_type": "stream",
     "text": [
      "(val) -0.4821 (test) -0.4850 [time] 0:00:16.702016\n",
      "\n"
     ]
    },
    {
     "name": "stderr",
     "output_type": "stream",
     "text": [
      "Epoch 43: 100%|██████████| 52/52 [00:00<00:00, 142.35it/s]\n"
     ]
    },
    {
     "name": "stdout",
     "output_type": "stream",
     "text": [
      "(val) -0.4896 (test) -0.4926 [time] 0:00:17.091193\n",
      "\n"
     ]
    },
    {
     "name": "stderr",
     "output_type": "stream",
     "text": [
      "Epoch 44: 100%|██████████| 52/52 [00:00<00:00, 142.54it/s]\n"
     ]
    },
    {
     "name": "stdout",
     "output_type": "stream",
     "text": [
      "(val) -0.4811 (test) -0.4880 [time] 0:00:17.479864\n",
      "\n"
     ]
    },
    {
     "name": "stderr",
     "output_type": "stream",
     "text": [
      "Epoch 45: 100%|██████████| 52/52 [00:00<00:00, 142.55it/s]\n"
     ]
    },
    {
     "name": "stdout",
     "output_type": "stream",
     "text": [
      "(val) -0.5041 (test) -0.5027 [time] 0:00:17.868686\n",
      "\n"
     ]
    },
    {
     "name": "stderr",
     "output_type": "stream",
     "text": [
      "Epoch 46: 100%|██████████| 52/52 [00:00<00:00, 142.73it/s]\n"
     ]
    },
    {
     "name": "stdout",
     "output_type": "stream",
     "text": [
      "(val) -0.4868 (test) -0.4854 [time] 0:00:18.256951\n",
      "\n"
     ]
    },
    {
     "name": "stderr",
     "output_type": "stream",
     "text": [
      "Epoch 47: 100%|██████████| 52/52 [00:00<00:00, 142.37it/s]\n"
     ]
    },
    {
     "name": "stdout",
     "output_type": "stream",
     "text": [
      "(val) -0.4910 (test) -0.4969 [time] 0:00:18.646070\n",
      "\n"
     ]
    },
    {
     "name": "stderr",
     "output_type": "stream",
     "text": [
      "Epoch 48: 100%|██████████| 52/52 [00:00<00:00, 142.46it/s]\n"
     ]
    },
    {
     "name": "stdout",
     "output_type": "stream",
     "text": [
      "(val) -0.4899 (test) -0.4919 [time] 0:00:19.034916\n",
      "\n"
     ]
    },
    {
     "name": "stderr",
     "output_type": "stream",
     "text": [
      "Epoch 49: 100%|██████████| 52/52 [00:00<00:00, 142.79it/s]\n"
     ]
    },
    {
     "name": "stdout",
     "output_type": "stream",
     "text": [
      "(val) -0.4874 (test) -0.4883 [time] 0:00:19.423114\n",
      "\n"
     ]
    },
    {
     "name": "stderr",
     "output_type": "stream",
     "text": [
      "Epoch 50: 100%|██████████| 52/52 [00:00<00:00, 142.74it/s]\n"
     ]
    },
    {
     "name": "stdout",
     "output_type": "stream",
     "text": [
      "(val) -0.4774 (test) -0.4917 [time] 0:00:19.811330\n",
      "🌸 New best epoch! 🌸\n",
      "\n"
     ]
    },
    {
     "name": "stderr",
     "output_type": "stream",
     "text": [
      "Epoch 51: 100%|██████████| 52/52 [00:00<00:00, 142.52it/s]\n"
     ]
    },
    {
     "name": "stdout",
     "output_type": "stream",
     "text": [
      "(val) -0.5030 (test) -0.5027 [time] 0:00:20.200258\n",
      "\n"
     ]
    },
    {
     "name": "stderr",
     "output_type": "stream",
     "text": [
      "Epoch 52: 100%|██████████| 52/52 [00:00<00:00, 142.68it/s]\n"
     ]
    },
    {
     "name": "stdout",
     "output_type": "stream",
     "text": [
      "(val) -0.4833 (test) -0.4838 [time] 0:00:20.589445\n",
      "\n"
     ]
    },
    {
     "name": "stderr",
     "output_type": "stream",
     "text": [
      "Epoch 53: 100%|██████████| 52/52 [00:00<00:00, 142.44it/s]\n"
     ]
    },
    {
     "name": "stdout",
     "output_type": "stream",
     "text": [
      "(val) -0.4864 (test) -0.4882 [time] 0:00:20.978184\n",
      "\n"
     ]
    },
    {
     "name": "stderr",
     "output_type": "stream",
     "text": [
      "Epoch 54: 100%|██████████| 52/52 [00:00<00:00, 142.42it/s]\n"
     ]
    },
    {
     "name": "stdout",
     "output_type": "stream",
     "text": [
      "(val) -0.4844 (test) -0.4925 [time] 0:00:21.367320\n",
      "\n"
     ]
    },
    {
     "name": "stderr",
     "output_type": "stream",
     "text": [
      "Epoch 55: 100%|██████████| 52/52 [00:00<00:00, 95.65it/s] \n"
     ]
    },
    {
     "name": "stdout",
     "output_type": "stream",
     "text": [
      "(val) -0.4904 (test) -0.4878 [time] 0:00:21.936014\n",
      "\n"
     ]
    },
    {
     "name": "stderr",
     "output_type": "stream",
     "text": [
      "Epoch 56: 100%|██████████| 52/52 [00:00<00:00, 87.34it/s]\n"
     ]
    },
    {
     "name": "stdout",
     "output_type": "stream",
     "text": [
      "(val) -0.4822 (test) -0.4937 [time] 0:00:22.556915\n",
      "\n"
     ]
    },
    {
     "name": "stderr",
     "output_type": "stream",
     "text": [
      "Epoch 57: 100%|██████████| 52/52 [00:00<00:00, 81.30it/s]\n"
     ]
    },
    {
     "name": "stdout",
     "output_type": "stream",
     "text": [
      "(val) -0.4838 (test) -0.4879 [time] 0:00:23.221617\n",
      "\n"
     ]
    },
    {
     "name": "stderr",
     "output_type": "stream",
     "text": [
      "Epoch 58: 100%|██████████| 52/52 [00:00<00:00, 83.74it/s]\n"
     ]
    },
    {
     "name": "stdout",
     "output_type": "stream",
     "text": [
      "(val) -0.4765 (test) -0.4934 [time] 0:00:23.868118\n",
      "🌸 New best epoch! 🌸\n",
      "\n"
     ]
    },
    {
     "name": "stderr",
     "output_type": "stream",
     "text": [
      "Epoch 59: 100%|██████████| 52/52 [00:00<00:00, 117.30it/s]\n"
     ]
    },
    {
     "name": "stdout",
     "output_type": "stream",
     "text": [
      "(val) -0.4880 (test) -0.4944 [time] 0:00:24.335913\n",
      "\n"
     ]
    },
    {
     "name": "stderr",
     "output_type": "stream",
     "text": [
      "Epoch 60: 100%|██████████| 52/52 [00:00<00:00, 142.97it/s]\n"
     ]
    },
    {
     "name": "stdout",
     "output_type": "stream",
     "text": [
      "(val) -0.4881 (test) -0.4918 [time] 0:00:24.723671\n",
      "\n"
     ]
    },
    {
     "name": "stderr",
     "output_type": "stream",
     "text": [
      "Epoch 61: 100%|██████████| 52/52 [00:00<00:00, 103.96it/s]\n"
     ]
    },
    {
     "name": "stdout",
     "output_type": "stream",
     "text": [
      "(val) -0.4836 (test) -0.4913 [time] 0:00:25.248160\n",
      "\n"
     ]
    },
    {
     "name": "stderr",
     "output_type": "stream",
     "text": [
      "Epoch 62: 100%|██████████| 52/52 [00:00<00:00, 136.96it/s]\n"
     ]
    },
    {
     "name": "stdout",
     "output_type": "stream",
     "text": [
      "(val) -0.4863 (test) -0.4978 [time] 0:00:25.651465\n",
      "\n"
     ]
    },
    {
     "name": "stderr",
     "output_type": "stream",
     "text": [
      "Epoch 63: 100%|██████████| 52/52 [00:00<00:00, 137.29it/s]\n"
     ]
    },
    {
     "name": "stdout",
     "output_type": "stream",
     "text": [
      "(val) -0.4904 (test) -0.4999 [time] 0:00:26.053718\n",
      "\n"
     ]
    },
    {
     "name": "stderr",
     "output_type": "stream",
     "text": [
      "Epoch 64: 100%|██████████| 52/52 [00:00<00:00, 137.01it/s]\n"
     ]
    },
    {
     "name": "stdout",
     "output_type": "stream",
     "text": [
      "(val) -0.4844 (test) -0.4967 [time] 0:00:26.456816\n",
      "\n"
     ]
    },
    {
     "name": "stderr",
     "output_type": "stream",
     "text": [
      "Epoch 65: 100%|██████████| 52/52 [00:00<00:00, 137.06it/s]\n"
     ]
    },
    {
     "name": "stdout",
     "output_type": "stream",
     "text": [
      "(val) -0.4825 (test) -0.5001 [time] 0:00:26.859736\n",
      "\n"
     ]
    },
    {
     "name": "stderr",
     "output_type": "stream",
     "text": [
      "Epoch 66: 100%|██████████| 52/52 [00:00<00:00, 136.83it/s]\n"
     ]
    },
    {
     "name": "stdout",
     "output_type": "stream",
     "text": [
      "(val) -0.4796 (test) -0.4906 [time] 0:00:27.263285\n",
      "\n"
     ]
    },
    {
     "name": "stderr",
     "output_type": "stream",
     "text": [
      "Epoch 67: 100%|██████████| 52/52 [00:00<00:00, 137.07it/s]\n"
     ]
    },
    {
     "name": "stdout",
     "output_type": "stream",
     "text": [
      "(val) -0.4923 (test) -0.4965 [time] 0:00:27.666159\n",
      "\n"
     ]
    },
    {
     "name": "stderr",
     "output_type": "stream",
     "text": [
      "Epoch 68: 100%|██████████| 52/52 [00:00<00:00, 136.35it/s]\n"
     ]
    },
    {
     "name": "stdout",
     "output_type": "stream",
     "text": [
      "(val) -0.4821 (test) -0.4951 [time] 0:00:28.071089\n",
      "\n"
     ]
    },
    {
     "name": "stderr",
     "output_type": "stream",
     "text": [
      "Epoch 69: 100%|██████████| 52/52 [00:00<00:00, 137.22it/s]\n"
     ]
    },
    {
     "name": "stdout",
     "output_type": "stream",
     "text": [
      "(val) -0.4862 (test) -0.4959 [time] 0:00:28.473585\n",
      "\n"
     ]
    },
    {
     "name": "stderr",
     "output_type": "stream",
     "text": [
      "Epoch 70: 100%|██████████| 52/52 [00:00<00:00, 136.75it/s]\n"
     ]
    },
    {
     "name": "stdout",
     "output_type": "stream",
     "text": [
      "(val) -0.4851 (test) -0.4964 [time] 0:00:28.877470\n",
      "\n"
     ]
    },
    {
     "name": "stderr",
     "output_type": "stream",
     "text": [
      "Epoch 71: 100%|██████████| 52/52 [00:00<00:00, 137.28it/s]\n"
     ]
    },
    {
     "name": "stdout",
     "output_type": "stream",
     "text": [
      "(val) -0.4886 (test) -0.4987 [time] 0:00:29.279790\n",
      "\n"
     ]
    },
    {
     "name": "stderr",
     "output_type": "stream",
     "text": [
      "Epoch 72: 100%|██████████| 52/52 [00:00<00:00, 137.10it/s]\n"
     ]
    },
    {
     "name": "stdout",
     "output_type": "stream",
     "text": [
      "(val) -0.4823 (test) -0.4917 [time] 0:00:29.682639\n",
      "\n"
     ]
    },
    {
     "name": "stderr",
     "output_type": "stream",
     "text": [
      "Epoch 73: 100%|██████████| 52/52 [00:00<00:00, 137.43it/s]\n"
     ]
    },
    {
     "name": "stdout",
     "output_type": "stream",
     "text": [
      "(val) -0.4946 (test) -0.4992 [time] 0:00:30.084554\n",
      "\n"
     ]
    },
    {
     "name": "stderr",
     "output_type": "stream",
     "text": [
      "Epoch 74: 100%|██████████| 52/52 [00:00<00:00, 137.33it/s]"
     ]
    },
    {
     "name": "stdout",
     "output_type": "stream",
     "text": [
      "(val) -0.4856 (test) -0.4986 [time] 0:00:30.486724\n",
      "\n",
      "\n",
      "Result:\n",
      "{'val': -0.47645997466732953, 'test': -0.49340017062723307, 'epoch': 58}\n"
     ]
    },
    {
     "name": "stderr",
     "output_type": "stream",
     "text": [
      "\n"
     ]
    }
   ],
   "source": [
    "# For demonstration purposes (fast training and bad performance),\n",
    "# one can set smaller values:\n",
    "# n_epochs = 20\n",
    "# patience = 2\n",
    "n_epochs = 1_000_000_000\n",
    "patience = 16\n",
    "\n",
    "batch_size = 256\n",
    "epoch_size = math.ceil(len(train_idx) / batch_size)\n",
    "timer = delu.tools.Timer()\n",
    "early_stopping = delu.tools.EarlyStopping(patience, mode=\"max\")\n",
    "best = {\n",
    "    \"val\": -math.inf,\n",
    "    \"test\": -math.inf,\n",
    "    \"epoch\": -1,\n",
    "}\n",
    "\n",
    "print(f\"Device: {device.type.upper()}\")\n",
    "print(\"-\" * 88 + \"\\n\")\n",
    "timer.run()\n",
    "for epoch in range(n_epochs):\n",
    "    for batch in tqdm(\n",
    "        delu.iter_batches(data[\"train\"], batch_size, shuffle=True),\n",
    "        desc=f\"Epoch {epoch}\",\n",
    "        total=epoch_size,\n",
    "    ):\n",
    "        model.train()\n",
    "        optimizer.zero_grad()\n",
    "        loss = loss_fn(apply_model(batch), batch[\"y\"])\n",
    "        loss.backward()\n",
    "        optimizer.step()\n",
    "\n",
    "    val_score = evaluate(\"val\")\n",
    "    test_score = evaluate(\"test\")\n",
    "    print(f\"(val) {val_score:.4f} (test) {test_score:.4f} [time] {timer}\")\n",
    "\n",
    "    early_stopping.update(val_score)\n",
    "    if early_stopping.should_stop():\n",
    "        break\n",
    "\n",
    "    if val_score > best[\"val\"]:\n",
    "        print(\"🌸 New best epoch! 🌸\")\n",
    "        best = {\"val\": val_score, \"test\": test_score, \"epoch\": epoch}\n",
    "    print()\n",
    "\n",
    "print(\"\\n\\nResult:\")\n",
    "print(best)"
   ]
  },
  {
   "cell_type": "code",
   "execution_count": null,
   "metadata": {},
   "outputs": [],
   "source": []
  }
 ],
 "metadata": {
  "kernelspec": {
   "display_name": "Python 3 (ipykernel)",
   "language": "python",
   "name": "python3"
  },
  "language_info": {
   "codemirror_mode": {
    "name": "ipython",
    "version": 3
   },
   "file_extension": ".py",
   "mimetype": "text/x-python",
   "name": "python",
   "nbconvert_exporter": "python",
   "pygments_lexer": "ipython3",
   "version": "3.9.13"
  }
 },
 "nbformat": 4,
 "nbformat_minor": 2
}
